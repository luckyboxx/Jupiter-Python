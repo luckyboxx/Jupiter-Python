{
 "cells": [
  {
   "cell_type": "markdown",
   "metadata": {},
   "source": [
    "# 합계"
   ]
  },
  {
   "cell_type": "code",
   "execution_count": 11,
   "metadata": {},
   "outputs": [
    {
     "name": "stdout",
     "output_type": "stream",
     "text": [
      "15\n"
     ]
    }
   ],
   "source": [
    "sum = 0\n",
    "\n",
    "sum = sum + 1\n",
    "sum = sum + 2\n",
    "sum = sum + 3\n",
    "sum = sum + 4\n",
    "sum = sum + 5\n",
    "\n",
    "print(sum)"
   ]
  },
  {
   "cell_type": "code",
   "execution_count": 7,
   "metadata": {},
   "outputs": [
    {
     "name": "stdout",
     "output_type": "stream",
     "text": [
      "55\n"
     ]
    }
   ],
   "source": [
    "sum = 0\n",
    "for i in range(1,11,1):\n",
    "    sum = sum + i\n",
    "print(sum)"
   ]
  },
  {
   "cell_type": "code",
   "execution_count": 8,
   "metadata": {},
   "outputs": [
    {
     "name": "stdout",
     "output_type": "stream",
     "text": [
      "끝값: 10\n",
      "55\n"
     ]
    }
   ],
   "source": [
    "sum = 0\n",
    "num = int(input(\"끝값: \"))\n",
    "for i in range(1,11,1):\n",
    "    sum = sum + i\n",
    "print(sum)"
   ]
  },
  {
   "cell_type": "code",
   "execution_count": 9,
   "metadata": {},
   "outputs": [
    {
     "name": "stdout",
     "output_type": "stream",
     "text": [
      "시작값: 1\n",
      "끝값: 10\n",
      "증가값: 1\n",
      "55\n"
     ]
    }
   ],
   "source": [
    "sum = 0\n",
    "start = int(input(\"시작값: \"))\n",
    "end = int(input(\"끝값: \"))\n",
    "plus = int(input(\"증가값: \"))\n",
    "for i in range(start,end + 1,plus):\n",
    "    sum = sum + i\n",
    "print(sum)"
   ]
  },
  {
   "cell_type": "markdown",
   "metadata": {},
   "source": [
    "# 구구단"
   ]
  },
  {
   "cell_type": "code",
   "execution_count": 26,
   "metadata": {},
   "outputs": [
    {
     "name": "stdout",
     "output_type": "stream",
     "text": [
      "몇 단: 3\n",
      " ### 3단 ###\n",
      " 3 X 1 = 3\n",
      " 3 X 2 = 6\n",
      " 3 X 3 = 9\n",
      " 3 X 4 = 12\n",
      " 3 X 5 = 15\n",
      " 3 X 6 = 18\n",
      " 3 X 7 = 21\n",
      " 3 X 8 = 24\n",
      " 3 X 9 = 27\n"
     ]
    }
   ],
   "source": [
    "dan = int(input(\"몇 단: \"))\n",
    "print(\" ###%2d단 ###\" % dan)\n",
    "for i in range(1, 10, 1):\n",
    "    print(\"%2d X%2d = %d\" % (dan, i, dan * i))"
   ]
  },
  {
   "cell_type": "code",
   "execution_count": 24,
   "metadata": {},
   "outputs": [
    {
     "name": "stdout",
     "output_type": "stream",
     "text": [
      " ### 2단 ###\n",
      " 2 X 1 = 2\n",
      " 2 X 2 = 4\n",
      " 2 X 3 = 6\n",
      " 2 X 4 = 8\n",
      " 2 X 5 = 10\n",
      " 2 X 6 = 12\n",
      " 2 X 7 = 14\n",
      " 2 X 8 = 16\n",
      " 2 X 9 = 18\n",
      " ### 3단 ###\n",
      " 3 X 1 = 3\n",
      " 3 X 2 = 6\n",
      " 3 X 3 = 9\n",
      " 3 X 4 = 12\n",
      " 3 X 5 = 15\n",
      " 3 X 6 = 18\n",
      " 3 X 7 = 21\n",
      " 3 X 8 = 24\n",
      " 3 X 9 = 27\n",
      " ### 4단 ###\n",
      " 4 X 1 = 4\n",
      " 4 X 2 = 8\n",
      " 4 X 3 = 12\n",
      " 4 X 4 = 16\n",
      " 4 X 5 = 20\n",
      " 4 X 6 = 24\n",
      " 4 X 7 = 28\n",
      " 4 X 8 = 32\n",
      " 4 X 9 = 36\n",
      " ### 5단 ###\n",
      " 5 X 1 = 5\n",
      " 5 X 2 = 10\n",
      " 5 X 3 = 15\n",
      " 5 X 4 = 20\n",
      " 5 X 5 = 25\n",
      " 5 X 6 = 30\n",
      " 5 X 7 = 35\n",
      " 5 X 8 = 40\n",
      " 5 X 9 = 45\n",
      " ### 6단 ###\n",
      " 6 X 1 = 6\n",
      " 6 X 2 = 12\n",
      " 6 X 3 = 18\n",
      " 6 X 4 = 24\n",
      " 6 X 5 = 30\n",
      " 6 X 6 = 36\n",
      " 6 X 7 = 42\n",
      " 6 X 8 = 48\n",
      " 6 X 9 = 54\n",
      " ### 7단 ###\n",
      " 7 X 1 = 7\n",
      " 7 X 2 = 14\n",
      " 7 X 3 = 21\n",
      " 7 X 4 = 28\n",
      " 7 X 5 = 35\n",
      " 7 X 6 = 42\n",
      " 7 X 7 = 49\n",
      " 7 X 8 = 56\n",
      " 7 X 9 = 63\n",
      " ### 8단 ###\n",
      " 8 X 1 = 8\n",
      " 8 X 2 = 16\n",
      " 8 X 3 = 24\n",
      " 8 X 4 = 32\n",
      " 8 X 5 = 40\n",
      " 8 X 6 = 48\n",
      " 8 X 7 = 56\n",
      " 8 X 8 = 64\n",
      " 8 X 9 = 72\n",
      " ### 9단 ###\n",
      " 9 X 1 = 9\n",
      " 9 X 2 = 18\n",
      " 9 X 3 = 27\n",
      " 9 X 4 = 36\n",
      " 9 X 5 = 45\n",
      " 9 X 6 = 54\n",
      " 9 X 7 = 63\n",
      " 9 X 8 = 72\n",
      " 9 X 9 = 81\n"
     ]
    }
   ],
   "source": [
    "for dan in range(2, 10, 1):\n",
    "    print(\" ###%2d단 ###\" % dan)\n",
    "    for i in range(1, 10, 1):\n",
    "        print(\"%2d X%2d = %d\" % (dan, i, dan * i))"
   ]
  },
  {
   "cell_type": "code",
   "execution_count": 53,
   "metadata": {},
   "outputs": [
    {
     "name": "stdout",
     "output_type": "stream",
     "text": [
      "   ## 2단 ##   ## 3단 ##   ## 4단 ##   ## 5단 ##   ## 6단 ##   ## 7단 ##   ## 8단 ##   ## 9단 ##\n",
      "   2 X 1 = 2   3 X 1 = 3   4 X 1 = 4   5 X 1 = 5   6 X 1 = 6   7 X 1 = 7   8 X 1 = 8   9 X 1 = 9\n",
      "   2 X 1 = 2   3 X 1 = 3   4 X 1 = 4   5 X 1 = 5   6 X 1 = 6   7 X 1 = 7   8 X 1 = 8   9 X 1 = 9\n",
      "   2 X 1 = 2   3 X 1 = 3   4 X 1 = 4   5 X 1 = 5   6 X 1 = 6   7 X 1 = 7   8 X 1 = 8   9 X 1 = 9\n",
      "   2 X 1 = 2   3 X 1 = 3   4 X 1 = 4   5 X 1 = 5   6 X 1 = 6   7 X 1 = 7   8 X 1 = 8   9 X 1 = 9\n",
      "   2 X 1 = 2   3 X 1 = 3   4 X 1 = 4   5 X 1 = 5   6 X 1 = 6   7 X 1 = 7   8 X 1 = 8   9 X 1 = 9\n",
      "   2 X 1 = 2   3 X 1 = 3   4 X 1 = 4   5 X 1 = 5   6 X 1 = 6   7 X 1 = 7   8 X 1 = 8   9 X 1 = 9\n",
      "   2 X 1 = 2   3 X 1 = 3   4 X 1 = 4   5 X 1 = 5   6 X 1 = 6   7 X 1 = 7   8 X 1 = 8   9 X 1 = 9\n",
      "   2 X 1 = 2   3 X 1 = 3   4 X 1 = 4   5 X 1 = 5   6 X 1 = 6   7 X 1 = 7   8 X 1 = 8   9 X 1 = 9\n",
      "   2 X 1 = 2   3 X 1 = 3   4 X 1 = 4   5 X 1 = 5   6 X 1 = 6   7 X 1 = 7   8 X 1 = 8   9 X 1 = 9\n"
     ]
    }
   ],
   "source": [
    "for dan in range(2, 10, 1):\n",
    "    print(\"   ##%2d단 ##\" % dan, end=\"\")\n",
    "print()\n",
    "for i in range(1, 10, 1):\n",
    "    for dan in range(2, 10, 1):\n",
    "        print(\"%4d X%2d = %d\" % (dan, 1, dan * 1), end=\"\")\n",
    "    print()"
   ]
  }
 ],
 "metadata": {
  "kernelspec": {
   "display_name": "Python 3",
   "language": "python",
   "name": "python3"
  },
  "language_info": {
   "codemirror_mode": {
    "name": "ipython",
    "version": 3
   },
   "file_extension": ".py",
   "mimetype": "text/x-python",
   "name": "python",
   "nbconvert_exporter": "python",
   "pygments_lexer": "ipython3",
   "version": "3.8.3"
  }
 },
 "nbformat": 4,
 "nbformat_minor": 4
}
