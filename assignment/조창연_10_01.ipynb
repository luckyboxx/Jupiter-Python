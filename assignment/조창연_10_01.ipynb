{
 "cells": [
  {
   "cell_type": "markdown",
   "metadata": {},
   "source": [
    "# ListInternalStructure"
   ]
  },
  {
   "cell_type": "code",
   "execution_count": 10,
   "metadata": {},
   "outputs": [
    {
     "name": "stdout",
     "output_type": "stream",
     "text": [
      "[10, 20, 30, 40, 50]\n",
      "3025046121984\n"
     ]
    }
   ],
   "source": [
    "score = [10, 20, 30, 40, 50]\n",
    "print(score)\n",
    "print(id(score))"
   ]
  },
  {
   "cell_type": "code",
   "execution_count": 11,
   "metadata": {},
   "outputs": [
    {
     "name": "stdout",
     "output_type": "stream",
     "text": [
      "140721396070464\n",
      "140721396070784\n",
      "140721396071104\n",
      "140721396071424\n",
      "140721396071744\n"
     ]
    }
   ],
   "source": [
    "print(id(score[0]))\n",
    "print(id(score[1]))\n",
    "print(id(score[2]))\n",
    "print(id(score[3]))\n",
    "print(id(score[4]))"
   ]
  },
  {
   "cell_type": "code",
   "execution_count": 12,
   "metadata": {},
   "outputs": [
    {
     "name": "stdout",
     "output_type": "stream",
     "text": [
      "90\n",
      "140721396073024\n"
     ]
    }
   ],
   "source": [
    "score[2] = 90\n",
    "print(score[2])\n",
    "print(id(score[2]))"
   ]
  },
  {
   "cell_type": "code",
   "execution_count": 13,
   "metadata": {},
   "outputs": [
    {
     "name": "stdout",
     "output_type": "stream",
     "text": [
      "20\n",
      "140721396070784\n"
     ]
    }
   ],
   "source": [
    "score[3] = 20\n",
    "print(score[3])\n",
    "print(id(score[3]))"
   ]
  },
  {
   "cell_type": "code",
   "execution_count": 14,
   "metadata": {},
   "outputs": [
    {
     "name": "stdout",
     "output_type": "stream",
     "text": [
      "80\n",
      "140721396072704\n"
     ]
    }
   ],
   "source": [
    "score[1] = 80\n",
    "print(score[1])\n",
    "print(id(score[1]))"
   ]
  },
  {
   "cell_type": "markdown",
   "metadata": {},
   "source": [
    "# ListCopy"
   ]
  },
  {
   "cell_type": "code",
   "execution_count": 19,
   "metadata": {},
   "outputs": [
    {
     "name": "stdout",
     "output_type": "stream",
     "text": [
      "[10, 20, 99, 40, 50]\n",
      "[10, 20, 99, 40, 50]\n"
     ]
    }
   ],
   "source": [
    "score = [10, 20, 30, 40, 50]\n",
    "values = score\n",
    "values[2] = 99\n",
    "print(score)\n",
    "print(values)"
   ]
  },
  {
   "cell_type": "code",
   "execution_count": 22,
   "metadata": {},
   "outputs": [
    {
     "name": "stdout",
     "output_type": "stream",
     "text": [
      "3025045717504\n",
      "140721396070464\n",
      "140721396070784\n",
      "140721396071104\n",
      "140721396071424\n",
      "140721396071744\n"
     ]
    }
   ],
   "source": [
    "score = [10, 20, 30, 40, 50]\n",
    "print(id(score))\n",
    "print(id(score[0]))\n",
    "print(id(score[1]))\n",
    "print(id(score[2]))\n",
    "print(id(score[3]))\n",
    "print(id(score[4]))"
   ]
  },
  {
   "cell_type": "code",
   "execution_count": 24,
   "metadata": {},
   "outputs": [
    {
     "name": "stdout",
     "output_type": "stream",
     "text": [
      "3025045717504\n",
      "140721396070464\n",
      "140721396070784\n",
      "140721396071104\n",
      "140721396071424\n",
      "140721396071744\n"
     ]
    }
   ],
   "source": [
    "values = score\n",
    "print(id(values))\n",
    "print(id(values[0]))\n",
    "print(id(values[1]))\n",
    "print(id(values[2]))\n",
    "print(id(values[3]))\n",
    "print(id(values[4]))"
   ]
  },
  {
   "cell_type": "code",
   "execution_count": 25,
   "metadata": {},
   "outputs": [
    {
     "name": "stdout",
     "output_type": "stream",
     "text": [
      "140721396073312\n"
     ]
    }
   ],
   "source": [
    "values[2]=99\n",
    "print(id(values[2]))"
   ]
  },
  {
   "cell_type": "code",
   "execution_count": 27,
   "metadata": {},
   "outputs": [
    {
     "name": "stdout",
     "output_type": "stream",
     "text": [
      "99\n"
     ]
    }
   ],
   "source": [
    "print(score[2])"
   ]
  },
  {
   "cell_type": "code",
   "execution_count": 20,
   "metadata": {},
   "outputs": [
    {
     "name": "stdout",
     "output_type": "stream",
     "text": [
      "[10, 20, 30, 40, 50]\n",
      "[10, 20, 99, 40, 50]\n"
     ]
    }
   ],
   "source": [
    "score = [10, 20, 30, 40, 50]\n",
    "values = list(score)\n",
    "values[2] = 99\n",
    "print(score)\n",
    "print(values)"
   ]
  },
  {
   "cell_type": "code",
   "execution_count": 29,
   "metadata": {},
   "outputs": [
    {
     "name": "stdout",
     "output_type": "stream",
     "text": [
      "3025045717504\n",
      "3025046333248\n"
     ]
    }
   ],
   "source": [
    "values = list(score)\n",
    "print(id(score))\n",
    "print(id(values))"
   ]
  },
  {
   "cell_type": "code",
   "execution_count": 32,
   "metadata": {},
   "outputs": [
    {
     "name": "stdout",
     "output_type": "stream",
     "text": [
      "140721396070464\n",
      "140721396070784\n",
      "140721396073312\n",
      "140721396071424\n",
      "140721396071744\n"
     ]
    }
   ],
   "source": [
    "for i in range(5):\n",
    "    print(id(score[i]))"
   ]
  },
  {
   "cell_type": "code",
   "execution_count": 31,
   "metadata": {},
   "outputs": [
    {
     "name": "stdout",
     "output_type": "stream",
     "text": [
      "140721396070464\n",
      "140721396070784\n",
      "140721396073312\n",
      "140721396071424\n",
      "140721396071744\n"
     ]
    }
   ],
   "source": [
    "for i in range(5):\n",
    "    print(id(values[i]))"
   ]
  },
  {
   "cell_type": "code",
   "execution_count": 34,
   "metadata": {},
   "outputs": [
    {
     "name": "stdout",
     "output_type": "stream",
     "text": [
      "140721396073312\n",
      "140721396070464\n"
     ]
    }
   ],
   "source": [
    "score[0] = 99\n",
    "print(id(score[0]))\n",
    "print(id(values[0]))"
   ]
  },
  {
   "cell_type": "code",
   "execution_count": 35,
   "metadata": {},
   "outputs": [
    {
     "name": "stdout",
     "output_type": "stream",
     "text": [
      "140721396073024\n"
     ]
    }
   ],
   "source": [
    "values[1] = 90\n",
    "print(id(values[1]))"
   ]
  },
  {
   "cell_type": "code",
   "execution_count": 40,
   "metadata": {},
   "outputs": [
    {
     "name": "stdout",
     "output_type": "stream",
     "text": [
      "[10, 20, 30, 40, 50]\n",
      "[10, 20, 99, 40, 50]\n"
     ]
    }
   ],
   "source": [
    "from copy import deepcopy\n",
    "score = [10, 20, 30, 40, 50]\n",
    "values = deepcopy(score)\n",
    "values[2] = 99\n",
    "print(score)\n",
    "print(values)"
   ]
  },
  {
   "cell_type": "code",
   "execution_count": 39,
   "metadata": {},
   "outputs": [
    {
     "name": "stdout",
     "output_type": "stream",
     "text": [
      "[10, 20, 30, 40, 50]\n",
      "[10, 20, 99, 40, 50]\n"
     ]
    }
   ],
   "source": [
    "score = [10, 20, 30, 40, 50]\n",
    "values = score[:]\n",
    "values[2] = 99\n",
    "print(score)\n",
    "print(values)"
   ]
  },
  {
   "cell_type": "markdown",
   "metadata": {},
   "source": [
    "# ListFunction"
   ]
  },
  {
   "cell_type": "code",
   "execution_count": 41,
   "metadata": {},
   "outputs": [
    {
     "name": "stdout",
     "output_type": "stream",
     "text": [
      "y= 10  id= 140721396070464\n",
      "x= 10  id= 140721396070464\n",
      "x= 42  id= 140721396071488\n",
      "y= 10  id= 140721396070464\n"
     ]
    }
   ],
   "source": [
    "def func1(x):\n",
    "    print(\"x=\", x, \" id=\", id(x))\n",
    "    x = 42\n",
    "    print(\"x=\", x, \" id=\", id(x))\n",
    "\n",
    "y = 10\n",
    "print(\"y=\", y, \" id=\", id(y))\n",
    "func1(y)\n",
    "print(\"y=\", y, \" id=\", id(y))"
   ]
  },
  {
   "cell_type": "code",
   "execution_count": 42,
   "metadata": {},
   "outputs": [
    {
     "name": "stdout",
     "output_type": "stream",
     "text": [
      "[0, 1, 1, 2]\n",
      "values[0]=0, id=140721396070144\n",
      "values[1]=1, id=140721396070176\n",
      "values[2]=1, id=140721396070176\n",
      "values[3]=2, id=140721396070208\n",
      "[0, 99, 1, 2]\n",
      "values[0]=0, id=140721396070144\n",
      "values[1]=99, id=140721396073312\n",
      "values[2]=1, id=140721396070176\n",
      "values[3]=2, id=140721396070208\n"
     ]
    }
   ],
   "source": [
    "def func2(list):\n",
    "    list[1] = 99\n",
    "    \n",
    "values = [0, 1, 1, 2]\n",
    "print(values)\n",
    "for i in range(0, 4):\n",
    "    print(\"values[%d]=%d, id=%d\" % (i, values[i], id(values[i])))\n",
    "func2(values)\n",
    "print(values)\n",
    "for i in range(0, 4):\n",
    "    print(\"values[%d]=%d, id=%d\" % (i, values[i], id(values[i])))"
   ]
  },
  {
   "cell_type": "code",
   "execution_count": 43,
   "metadata": {},
   "outputs": [
    {
     "name": "stdout",
     "output_type": "stream",
     "text": [
      "[0, 1, 1, 2]\n",
      "[99, 1, 1, 2]\n"
     ]
    }
   ],
   "source": [
    "def func2(list):\n",
    "    list[0] = 99\n",
    "    v = [1,2]\n",
    "    list = v\n",
    "\n",
    "values = [0, 1, 1, 2]\n",
    "print(values)\n",
    "func2(values)\n",
    "print(values)"
   ]
  },
  {
   "cell_type": "markdown",
   "metadata": {},
   "source": [
    "# Cheapest"
   ]
  },
  {
   "cell_type": "code",
   "execution_count": 44,
   "metadata": {},
   "outputs": [
    {
     "name": "stdout",
     "output_type": "stream",
     "text": [
      "가장 싼 가격은 :  20\n"
     ]
    }
   ],
   "source": [
    "prices = [90, 80, 20, 60, 70]\n",
    "cheapest = prices[0]\n",
    "for i in range(1, len(prices)):\n",
    "    if prices[i] < cheapest:\n",
    "        cheapest = prices[i]\n",
    "print(\"가장 싼 가격은 : \", cheapest)"
   ]
  },
  {
   "cell_type": "code",
   "execution_count": 45,
   "metadata": {},
   "outputs": [
    {
     "name": "stdout",
     "output_type": "stream",
     "text": [
      "가장 싼 가격은 :  20\n"
     ]
    }
   ],
   "source": [
    "prices = [90, 80, 20, 60, 70]\n",
    "cheapest = prices[0]\n",
    "for value in prices:\n",
    "    if value < cheapest:\n",
    "        cheapest = value\n",
    "print(\"가장 싼 가격은 : \", cheapest)"
   ]
  },
  {
   "cell_type": "code",
   "execution_count": 46,
   "metadata": {},
   "outputs": [
    {
     "data": {
      "text/plain": [
       "20"
      ]
     },
     "execution_count": 46,
     "metadata": {},
     "output_type": "execute_result"
    }
   ],
   "source": [
    "prices = [90, 80, 20, 60, 70]\n",
    "min(prices)"
   ]
  },
  {
   "cell_type": "markdown",
   "metadata": {},
   "source": [
    "# SequentialSearch"
   ]
  },
  {
   "cell_type": "code",
   "execution_count": 47,
   "metadata": {},
   "outputs": [
    {
     "name": "stdout",
     "output_type": "stream",
     "text": [
      "탐색 성공 위치 =  7\n"
     ]
    }
   ],
   "source": [
    "def linearSearch(aList, key):\n",
    "    for i in range(len(aList)):\n",
    "        if key == aList[i]:\n",
    "            return i\n",
    "    return -1\n",
    "\n",
    "numbers = [10, 20, 30, 40, 50, 60, 70, 80, 90]\n",
    "position = linearSearch(numbers, 80)\n",
    "if position != -1:\n",
    "    print(\"탐색 성공 위치 = \", position)\n",
    "else:\n",
    "    print(\"탐색 실패\")\n",
    "# print(numbers.index(80))"
   ]
  },
  {
   "cell_type": "code",
   "execution_count": 48,
   "metadata": {},
   "outputs": [
    {
     "name": "stdout",
     "output_type": "stream",
     "text": [
      "탐색 성공 위치 =  7\n"
     ]
    }
   ],
   "source": [
    "numbers = [10, 20, 30, 40, 50, 60, 70, 80, 90]\n",
    "\n",
    "key = 80\n",
    "position = -1\n",
    "\n",
    "# position = linearSearch(numbers, 80)\n",
    "for i in range(len(numbers)):\n",
    "    if key == numbers[i]:\n",
    "        position = i\n",
    "\n",
    "if position == -1:\n",
    "    print(\"탐색 실패\")\n",
    "else:\n",
    "    print(\"탐색 성공 위치 = \", position)"
   ]
  },
  {
   "cell_type": "code",
   "execution_count": 49,
   "metadata": {},
   "outputs": [
    {
     "name": "stdout",
     "output_type": "stream",
     "text": [
      "탐색 성공 위치 =  7\n"
     ]
    }
   ],
   "source": [
    "def linearSearch(aList, key):\n",
    "    for i, value in enumerate(aList):\n",
    "        if key == value:\n",
    "            return i\n",
    "    return -1\n",
    "\n",
    "numbers = [10, 20, 30, 40, 50, 60, 70, 80, 90]\n",
    "\n",
    "position = linearSearch(numbers, 80)\n",
    "\n",
    "if position == -1:\n",
    "    print(\"탐색 실패\")\n",
    "else:\n",
    "    print(\"탐색 성공 위치 = \", position)\n"
   ]
  },
  {
   "cell_type": "code",
   "execution_count": 50,
   "metadata": {},
   "outputs": [
    {
     "name": "stdout",
     "output_type": "stream",
     "text": [
      "7\n"
     ]
    }
   ],
   "source": [
    "numbers = [10, 20, 30, 40, 50, 60, 70, 80, 90]\n",
    "print(numbers.index(80))"
   ]
  },
  {
   "cell_type": "markdown",
   "metadata": {},
   "source": [
    "# Party_Set"
   ]
  },
  {
   "cell_type": "code",
   "execution_count": 51,
   "metadata": {},
   "outputs": [
    {
     "name": "stdout",
     "output_type": "stream",
     "text": [
      "2개의 파티에 모두 참석한 사람은 다음과 같습니다. \n",
      "{'Park'}\n"
     ]
    }
   ],
   "source": [
    "partyA = set([\"Park\", \"Kim\", \"Lee\"])\n",
    "partyB = set([\"Park\", \"Choi\"])\n",
    "\n",
    "print(\"2개의 파티에 모두 참석한 사람은 다음과 같습니다. \")\n",
    "print ( partyA.intersection(partyB))"
   ]
  },
  {
   "cell_type": "markdown",
   "metadata": {},
   "source": [
    "# Words"
   ]
  },
  {
   "cell_type": "code",
   "execution_count": 73,
   "metadata": {},
   "outputs": [
    {
     "name": "stdout",
     "output_type": "stream",
     "text": [
      "입력 파일 이름: proverbs.txt\n",
      "사용된 단어의 개수= 18\n",
      "{'of', 'bad', 'feather', 'that', 'together', 'done', 'is', 'fast', 'half', 'news', 'birds', 'begun', 'alls', 'a', 'ends', 'travels', 'flock', 'well'}\n"
     ]
    }
   ],
   "source": [
    "# 단어에서 구두점을 제거하고 소문자로 만든다.\n",
    "def process(w):\n",
    "    output = \"\"\n",
    "    for ch in w:\n",
    "        if ( ch.isalpha() ):\n",
    "            output += ch\n",
    "    return output.lower()\n",
    "\n",
    "words = set()\n",
    "\n",
    "# 파일을 연다\n",
    "fname = input(\"입력 파일 이름: \")\n",
    "file = open(fname, \"r\")\n",
    "\n",
    "# 파일의 모든 줄에 대하여 반복한다.\n",
    "for line in file:\n",
    "    lineWords = line.split() # 공백을 구분자로 단어들 분리하여 리스트\n",
    "    for word in lineWords:\n",
    "        words.add(process(word)) # 단어를 세트에 추가한다.\n",
    "\n",
    "print(\"사용된 단어의 개수=\", len(words))\n",
    "print(words)"
   ]
  },
  {
   "cell_type": "code",
   "execution_count": 56,
   "metadata": {},
   "outputs": [
    {
     "name": "stdout",
     "output_type": "stream",
     "text": [
      "alls\n",
      "together\n"
     ]
    }
   ],
   "source": [
    "# 단어에서 구두점을 제거하고 소문자로 만든다.\n",
    "def process(w):\n",
    "    output = \"\"\n",
    "    for ch in w:\n",
    "        if ch.isalpha():\n",
    "            output += ch\n",
    "    return output.lower()\n",
    "\n",
    "w1 = \"All's\"\n",
    "w2 = \"together.\"\n",
    "\n",
    "print(process(w1))\n",
    "print(process(w2))"
   ]
  },
  {
   "cell_type": "code",
   "execution_count": 62,
   "metadata": {},
   "outputs": [
    {
     "name": "stdout",
     "output_type": "stream",
     "text": [
      "입력 파일 이름: proverbs.txt\n",
      "[\"All's\", 'well', 'that', 'ends', 'well.']\n",
      "['Bad', 'news', 'travels', 'fast.']\n",
      "['Well', 'begun', 'is', 'half', 'done.']\n",
      "['Birds', 'of', 'a', 'feather', 'flock', 'together.']\n"
     ]
    }
   ],
   "source": [
    "# 단어에서 구두점을 제거하고 소문자로 만든다.\n",
    "def process(w):\n",
    "    output = \"\"\n",
    "    for ch in w:\n",
    "        if ch.isalpha():\n",
    "            output += ch\n",
    "    return output.lower()\n",
    "\n",
    "words = set()\n",
    "\n",
    "fname = input(\"입력 파일 이름: \")\n",
    "file = open(fname, \"r\")\n",
    "\n",
    "for line in file:\n",
    "    lineWords = line.split()\n",
    "    print(lineWords)"
   ]
  },
  {
   "cell_type": "code",
   "execution_count": 66,
   "metadata": {},
   "outputs": [
    {
     "name": "stdout",
     "output_type": "stream",
     "text": [
      "입력 파일 이름: proverbs.txt\n",
      "[\"All's\", 'well', 'that', 'ends', 'well.']\n",
      "All's\n",
      "well\n",
      "that\n",
      "ends\n",
      "well.\n",
      "['Bad', 'news', 'travels', 'fast.']\n",
      "Bad\n",
      "news\n",
      "travels\n",
      "fast.\n",
      "['Well', 'begun', 'is', 'half', 'done.']\n",
      "Well\n",
      "begun\n",
      "is\n",
      "half\n",
      "done.\n",
      "['Birds', 'of', 'a', 'feather', 'flock', 'together.']\n",
      "Birds\n",
      "of\n",
      "a\n",
      "feather\n",
      "flock\n",
      "together.\n"
     ]
    }
   ],
   "source": [
    "def process(w):\n",
    "    output = \"\"\n",
    "    for ch in w:\n",
    "        if ch.isalpha():\n",
    "            output += ch\n",
    "    return output.lower()\n",
    "\n",
    "words = set()\n",
    "\n",
    "fname = input(\"입력 파일 이름: \")\n",
    "file = open(fname, \"r\")\n",
    "\n",
    "for line in file:\n",
    "    lineWords = line.split()\n",
    "    print(lineWords)\n",
    "    for word in lineWords:\n",
    "        print(word)\n",
    "        #words.add(process(word))"
   ]
  },
  {
   "cell_type": "code",
   "execution_count": 71,
   "metadata": {},
   "outputs": [
    {
     "name": "stdout",
     "output_type": "stream",
     "text": [
      "입력 파일 이름: proverbs.txt\n",
      "사용된 단어의 개수 =  18\n",
      "{'of', 'bad', 'feather', 'that', 'together', 'done', 'is', 'fast', 'half', 'news', 'birds', 'begun', 'alls', 'a', 'ends', 'travels', 'flock', 'well'}\n"
     ]
    }
   ],
   "source": [
    "def process(w):\n",
    "    output = \"\"\n",
    "    for ch in w:\n",
    "        if ch.isalpha():\n",
    "            output += ch\n",
    "    return output.lower()\n",
    "\n",
    "words = set()\n",
    "\n",
    "fname = input(\"입력 파일 이름: \")\n",
    "file = open(fname, \"r\")\n",
    "\n",
    "for line in file:\n",
    "    lineWords = line.split()\n",
    "    #print(lineWords)\n",
    "    for word in lineWords:\n",
    "        #print(word)\n",
    "        words.add(process(word))\n",
    "\n",
    "print(\"사용된 단어의 개수 = \", len(words))\n",
    "print(words)"
   ]
  },
  {
   "cell_type": "markdown",
   "metadata": {},
   "source": [
    "# WordsCounter"
   ]
  },
  {
   "cell_type": "code",
   "execution_count": 76,
   "metadata": {},
   "outputs": [
    {
     "name": "stdout",
     "output_type": "stream",
     "text": [
      "파일 이름: proverbs.txt\n",
      "{\"All's\": 1, 'well': 1, 'that': 1, 'ends': 1, 'well.': 1, 'Bad': 1, 'news': 1, 'travels': 1, 'fast.': 1, 'Well': 1, 'begun': 1, 'is': 1, 'half': 1, 'done.': 1, 'Birds': 1, 'of': 1, 'a': 1, 'feather': 1, 'flock': 1, 'together.': 1}\n"
     ]
    }
   ],
   "source": [
    "fname = input(\"파일 이름: \")\n",
    "file = open(fname, \"r\")\n",
    "\n",
    "table = dict()\n",
    "\n",
    "for line in file:\n",
    "    words = line.split()\n",
    "    for word in words:\n",
    "        if word not in table:\n",
    "            table[word] = 1\n",
    "        else:\n",
    "            table[word] = table[word] + 1\n",
    "\n",
    "print(table)"
   ]
  }
 ],
 "metadata": {
  "kernelspec": {
   "display_name": "Python 3",
   "language": "python",
   "name": "python3"
  },
  "language_info": {
   "codemirror_mode": {
    "name": "ipython",
    "version": 3
   },
   "file_extension": ".py",
   "mimetype": "text/x-python",
   "name": "python",
   "nbconvert_exporter": "python",
   "pygments_lexer": "ipython3",
   "version": "3.8.3"
  }
 },
 "nbformat": 4,
 "nbformat_minor": 4
}
