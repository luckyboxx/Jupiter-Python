{
 "cells": [
  {
   "cell_type": "markdown",
   "metadata": {},
   "source": [
    "# 중간고사 대비 테스트 문제"
   ]
  },
  {
   "cell_type": "code",
   "execution_count": 1,
   "metadata": {},
   "outputs": [
    {
     "name": "stdout",
     "output_type": "stream",
     "text": [
      "a의 값은 10 입니다.\n"
     ]
    }
   ],
   "source": [
    "a = 10\n",
    "print(\"a의 값은 %d 입니다.\" % a)"
   ]
  },
  {
   "cell_type": "markdown",
   "metadata": {},
   "source": [
    "# 중간고사"
   ]
  },
  {
   "cell_type": "markdown",
   "metadata": {},
   "source": [
    "# 문제 2"
   ]
  },
  {
   "cell_type": "code",
   "execution_count": 4,
   "metadata": {},
   "outputs": [
    {
     "data": {
      "text/plain": [
       "False"
      ]
     },
     "execution_count": 4,
     "metadata": {},
     "output_type": "execute_result"
    }
   ],
   "source": [
    "(10 > 20) and (20 > 10)"
   ]
  },
  {
   "cell_type": "code",
   "execution_count": 5,
   "metadata": {},
   "outputs": [
    {
     "data": {
      "text/plain": [
       "True"
      ]
     },
     "execution_count": 5,
     "metadata": {},
     "output_type": "execute_result"
    }
   ],
   "source": [
    "(10 > 20) or (20 > 10)"
   ]
  },
  {
   "cell_type": "markdown",
   "metadata": {},
   "source": [
    "# 문제 4"
   ]
  },
  {
   "cell_type": "code",
   "execution_count": 7,
   "metadata": {},
   "outputs": [
    {
     "name": "stdout",
     "output_type": "stream",
     "text": [
      "6 - 7 = -1\n"
     ]
    }
   ],
   "source": [
    "a = 6                     # Line1\n",
    "b = 7                     # Line2\n",
    "c = a - b                 # Line3\n",
    "print(a, \"-\", b, \"=\", c) # Line4"
   ]
  },
  {
   "cell_type": "markdown",
   "metadata": {},
   "source": [
    "# 문제 5"
   ]
  },
  {
   "cell_type": "code",
   "execution_count": 8,
   "metadata": {},
   "outputs": [
    {
     "name": "stdout",
     "output_type": "stream",
     "text": [
      "12\n"
     ]
    }
   ],
   "source": [
    "sum = 0                      # Line 1\n",
    "for x in range(3, 6, 1) :  # Line 2 \n",
    "    sum = sum + x       # Line 3\n",
    "print(sum)                  # Line 4"
   ]
  },
  {
   "cell_type": "markdown",
   "metadata": {},
   "source": [
    "# 문제 6"
   ]
  },
  {
   "cell_type": "code",
   "execution_count": 9,
   "metadata": {},
   "outputs": [
    {
     "name": "stdout",
     "output_type": "stream",
     "text": [
      "[[0, 1, 2, 3], [4, 5, 6, 7]]\n"
     ]
    }
   ],
   "source": [
    "list1 = []\n",
    "list2 = []\n",
    "value = 0 # Line1\n",
    "for i in range(1,3) : # Line2\n",
    "    for k in range(0,4) : # Line3\n",
    "        list1.append(value)\n",
    "        value += 1 # Line4\n",
    "    list2.append(list1)\n",
    "    list1 = []\n",
    "\n",
    "print(list2)"
   ]
  },
  {
   "cell_type": "code",
   "execution_count": 19,
   "metadata": {},
   "outputs": [
    {
     "name": "stdout",
     "output_type": "stream",
     "text": [
      "[[1, 4, 7], [10, 13, 16], [19, 22, 25]]\n"
     ]
    }
   ],
   "source": [
    "list1 = []\n",
    "list2 = []\n",
    "value = 1 # Line1\n",
    "for i in range(1,4) : # Line2\n",
    "    for k in range(0,3) : # Line3\n",
    "        list1.append(value)\n",
    "        value += 3 # Line4\n",
    "    list2.append(list1)\n",
    "    list1 = []\n",
    "\n",
    "print(list2)"
   ]
  },
  {
   "cell_type": "markdown",
   "metadata": {},
   "source": [
    "# 문제 7"
   ]
  },
  {
   "cell_type": "code",
   "execution_count": 41,
   "metadata": {},
   "outputs": [
    {
     "name": "stdout",
     "output_type": "stream",
     "text": [
      "첫번째 정수 : 1\n",
      "두번째 정수 : 10\n",
      "3과 5의 배수를 제외한 합은 22 입니다.\n"
     ]
    }
   ],
   "source": [
    "sum, i = 0, 0\n",
    "\n",
    "a = int(input(\"첫번째 정수 : \"))\n",
    "b = int(input(\"두번째 정수 : \"))\n",
    "\n",
    "for i in range(a, b+1):\n",
    "    if a < b:\n",
    "        if i % 3 == 0 or i % 5 == 0:\n",
    "            continue\n",
    "        sum = sum + i\n",
    "        \n",
    "print(\"3과 5의 배수를 제외한 합은 %d 입니다.\" % sum)"
   ]
  },
  {
   "cell_type": "markdown",
   "metadata": {},
   "source": [
    "# 문제 8"
   ]
  },
  {
   "cell_type": "code",
   "execution_count": 92,
   "metadata": {},
   "outputs": [
    {
     "name": "stdout",
     "output_type": "stream",
     "text": [
      "첫번째 정수 : 3\n",
      "*****\n",
      "#***\n",
      "##*\n"
     ]
    }
   ],
   "source": [
    "a = int(input(\"첫번째 정수 : \"))\n",
    "\n",
    "for i in range(1, a + 1, 1):\n",
    "    for k in range(3, 2 + i, 1):\n",
    "        print(\"#\", end=\"\")\n",
    "\n",
    "    for k in range(1, ((a+1) * 2) - (2 * i), 1):\n",
    "        print(\"*\", end=\"\")\n",
    "    print()"
   ]
  },
  {
   "cell_type": "code",
   "execution_count": 1,
   "metadata": {},
   "outputs": [
    {
     "name": "stdout",
     "output_type": "stream",
     "text": [
      "첫번째 정수 : 6\n",
      "***********\n",
      "#*********\n",
      "##*******\n",
      "###*****\n",
      "####***\n",
      "#####*\n"
     ]
    }
   ],
   "source": [
    "a = int(input(\"첫번째 정수 : \"))\n",
    "\n",
    "for i in range(1, a + 1, 1):\n",
    "    for k in range(3, 2 + i, 1):\n",
    "        print(\"#\", end=\"\")\n",
    "\n",
    "    for k in range(1, ((a+1) * 2) - (2 * i), 1):\n",
    "        print(\"*\", end=\"\")\n",
    "    print()"
   ]
  },
  {
   "cell_type": "markdown",
   "metadata": {},
   "source": [
    "# 문제 9"
   ]
  },
  {
   "cell_type": "code",
   "execution_count": 2,
   "metadata": {},
   "outputs": [
    {
     "ename": "SyntaxError",
     "evalue": "invalid syntax (<ipython-input-2-8dc18265bff9>, line 10)",
     "output_type": "error",
     "traceback": [
      "\u001b[1;36m  File \u001b[1;32m\"<ipython-input-2-8dc18265bff9>\"\u001b[1;36m, line \u001b[1;32m10\u001b[0m\n\u001b[1;33m    print(\"##제거 대상 점수##\")\u001b[0m\n\u001b[1;37m    ^\u001b[0m\n\u001b[1;31mSyntaxError\u001b[0m\u001b[1;31m:\u001b[0m invalid syntax\n"
     ]
    }
   ],
   "source": [
    "score = []\n",
    "for i in range(5):\n",
    "    score.append(0)\n",
    "\n",
    "print(\"5명의 평가 점수를 입력하세요! (100점 만점)\")\n",
    "\n",
    "for i in range(0,5):\n",
    "    score[i] = int(input(\"점수 입력 : \")\n",
    "\n",
    "print(\"##제거 대상 점수##\")        "
   ]
  },
  {
   "cell_type": "code",
   "execution_count": null,
   "metadata": {},
   "outputs": [],
   "source": []
  }
 ],
 "metadata": {
  "kernelspec": {
   "display_name": "Python 3",
   "language": "python",
   "name": "python3"
  },
  "language_info": {
   "codemirror_mode": {
    "name": "ipython",
    "version": 3
   },
   "file_extension": ".py",
   "mimetype": "text/x-python",
   "name": "python",
   "nbconvert_exporter": "python",
   "pygments_lexer": "ipython3",
   "version": "3.8.3"
  }
 },
 "nbformat": 4,
 "nbformat_minor": 4
}
