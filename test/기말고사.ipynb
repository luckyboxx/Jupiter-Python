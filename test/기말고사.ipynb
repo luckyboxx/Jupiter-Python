{
 "cells": [
  {
   "cell_type": "markdown",
   "metadata": {},
   "source": [
    "# 문제 2"
   ]
  },
  {
   "cell_type": "code",
   "execution_count": 9,
   "metadata": {},
   "outputs": [
    {
     "name": "stdout",
     "output_type": "stream",
     "text": [
      "arrayA:\n",
      " [ 0  1  2  3  4  5  6  7  8  9 10 11 12 13 14 15]\n",
      "arrayB:\n",
      " [[ 0  1  2  3  4  5  6  7]\n",
      " [ 8  9 10 11 12 13 14 15]]\n",
      "arrayC:\n",
      " [[ 0  1  2  3]\n",
      " [ 4  5  6  7]\n",
      " [ 8  9 10 11]\n",
      " [12 13 14 15]]\n",
      "arrayD:\n",
      " [[ 0  1]\n",
      " [ 2  3]\n",
      " [ 4  5]\n",
      " [ 6  7]\n",
      " [ 8  9]\n",
      " [10 11]\n",
      " [12 13]\n",
      " [14 15]]\n"
     ]
    }
   ],
   "source": [
    "import numpy as np\n",
    "\n",
    "arrayA = np.arange(16)\n",
    "print('arrayA:\\n', arrayA)\n",
    "\n",
    "arrayB = arrayA.reshape(-1,8)\n",
    "print('arrayB:\\n',arrayB)\n",
    "\n",
    "arrayC = arrayA.reshape(-1,4)\n",
    "print('arrayC:\\n',arrayC)\n",
    "\n",
    "arrayD = arrayA.reshape(-1,2)\n",
    "print('arrayD:\\n',arrayD)"
   ]
  },
  {
   "cell_type": "markdown",
   "metadata": {},
   "source": [
    "# 문제 3 (못풀었음ㅜㅜ)"
   ]
  },
  {
   "cell_type": "code",
   "execution_count": 95,
   "metadata": {
    "scrolled": true
   },
   "outputs": [
    {
     "name": "stdout",
     "output_type": "stream",
     "text": [
      "<class 'pandas.core.frame.DataFrame'>\n",
      "RangeIndex: 3 entries, 0 to 2\n",
      "Data columns (total 5 columns):\n",
      " #   Column  Non-Null Count  Dtype \n",
      "---  ------  --------------  ----- \n",
      " 0   이름      3 non-null      object\n",
      " 1   파이썬     3 non-null      int64 \n",
      " 2   수영      3 non-null      int64 \n",
      " 3   인공지능    3 non-null      int64 \n",
      " 4   피아노     3 non-null      int64 \n",
      "dtypes: int64(4), object(1)\n",
      "memory usage: 248.0+ bytes\n",
      "None \n",
      "\n",
      "         파이썬         수영        인공지능         피아노\n",
      "count    3.0   3.000000    3.000000    3.000000\n",
      "mean    90.0  94.000000   96.666667   93.333333\n",
      "std     10.0   4.582576    2.886751    5.773503\n",
      "min     80.0  89.000000   95.000000   90.000000\n",
      "25%     85.0  92.000000   95.000000   90.000000\n",
      "50%     90.0  95.000000   95.000000   90.000000\n",
      "75%     95.0  96.500000   97.500000   95.000000\n",
      "max    100.0  98.000000  100.000000  100.000000 \n",
      "\n"
     ]
    }
   ],
   "source": [
    "import pandas as pd\n",
    "\n",
    "data = {'이름' : ['아이유', '홍길동', '김단국'],\n",
    "        '파이썬' : [ 90, 80, 100],\n",
    "        '수영' : [ 98, 89, 95],\n",
    "        '인공지능' : [ 95, 95, 100],\n",
    "        '피아노' : [ 100, 90, 90]\n",
    "       }\n",
    "\n",
    "df = pd.DataFrame(data)\n",
    "\n",
    "print(df.info(), '\\n')\n",
    "print(df.describe(), '\\n')"
   ]
  },
  {
   "cell_type": "markdown",
   "metadata": {},
   "source": [
    "# 문제 4"
   ]
  },
  {
   "cell_type": "code",
   "execution_count": 41,
   "metadata": {},
   "outputs": [
    {
     "name": "stdout",
     "output_type": "stream",
     "text": [
      "array type: <class 'numpy.ndarray'>\n",
      "array 차원: 3\n",
      "array 형태: (2, 4, 3)\n"
     ]
    }
   ],
   "source": [
    "import numpy as np\n",
    "\n",
    "array = np.array([[[1, 4, 7],\n",
    "                   [2, 9, 7],\n",
    "                   [1, 3, 0],\n",
    "                   [9, 6, 9]],\n",
    "                  [[2, 3, 4],\n",
    "                   [3, 4, 5],\n",
    "                   [0, 1, 2],\n",
    "                   [6, 7, 8]]])\n",
    "print('array type:', type(array))\n",
    "print('array 차원:', array.ndim)\n",
    "print('array 형태:', array.shape)"
   ]
  },
  {
   "cell_type": "markdown",
   "metadata": {},
   "source": [
    "# 문제 5"
   ]
  },
  {
   "cell_type": "code",
   "execution_count": 61,
   "metadata": {},
   "outputs": [
    {
     "name": "stdout",
     "output_type": "stream",
     "text": [
      "파이썬     80\n",
      "수영      89\n",
      "인공지능    95\n",
      "피아노     90\n",
      "Name: 홍길동, dtype: int64 \n",
      "\n",
      "아이유    98\n",
      "홍길동    89\n",
      "김단국    95\n",
      "Name: 수영, dtype: int64 \n",
      "\n",
      "     파이썬  피아노\n",
      "아이유   90  100\n",
      "홍길동   80   90\n",
      "김단국  100   90 \n",
      "\n",
      "수영     89\n",
      "피아노    90\n",
      "Name: 홍길동, dtype: int64 \n",
      "\n"
     ]
    }
   ],
   "source": [
    "import pandas as pd\n",
    "\n",
    "data = {'파이썬' : [ 90, 80, 100], '수영' : [ 98, 89, 95],\n",
    "        '인공지능' : [ 95, 95, 100], '피아노' : [ 100, 90, 90]}\n",
    "\n",
    "df = pd.DataFrame(data, index=['아이유', '홍길동', '김단국'])\n",
    "\n",
    "# '홍길동' 행 선택\n",
    "A = df.loc['홍길동']\n",
    "print(A, '\\n')\n",
    "\n",
    "# '수영' 열 선택\n",
    "B = df['수영']\n",
    "print(B, '\\n')\n",
    "\n",
    "# '파이썬', '피아노' 점수 선택\n",
    "C = df.loc[['아이유', '홍길동', '김단국'], ['파이썬', '피아노']]\n",
    "print(C, '\\n')\n",
    "\n",
    "# '홍길동'의 '수영'과 '피아노' 점수 선택\n",
    "D = df.loc['홍길동', ['수영', '피아노']]\n",
    "print(D, '\\n')"
   ]
  },
  {
   "cell_type": "markdown",
   "metadata": {},
   "source": [
    "# 문제 6"
   ]
  },
  {
   "cell_type": "code",
   "execution_count": 62,
   "metadata": {},
   "outputs": [
    {
     "name": "stdout",
     "output_type": "stream",
     "text": [
      "[ 3  7 11]\n",
      "[ 9 12]\n",
      "21\n"
     ]
    }
   ],
   "source": [
    "import numpy as np\n",
    "\n",
    "array = np.array([[1,3,5],\n",
    "                  [2,4,6]])\n",
    "\n",
    "print(array.sum(axis=0))\n",
    "print(array.sum(axis=1))\n",
    "print(array.sum())"
   ]
  },
  {
   "cell_type": "markdown",
   "metadata": {},
   "source": [
    "# 문제 7"
   ]
  },
  {
   "cell_type": "code",
   "execution_count": 64,
   "metadata": {},
   "outputs": [
    {
     "name": "stdout",
     "output_type": "stream",
     "text": [
      "     파이썬  수영   AI  피아노\n",
      "아이유   90  98   95  100\n",
      "홍길동   80  89   95   90\n",
      "김단국  100  95  100   90\n",
      "\n",
      "     파이썬  수영   AI  피아노\n",
      "아이유   90  98   95  100\n",
      "김단국  100  95  100   90\n",
      "\n",
      "     파이썬   AI  피아노\n",
      "아이유   90   95  100\n",
      "김단국  100  100   90\n"
     ]
    }
   ],
   "source": [
    "import pandas as pd\n",
    "\n",
    "data = {'파이썬' : [ 90, 80, 100], '수영' : [ 98, 89, 95],\n",
    "           'AI' : [ 95, 95, 100], '피아노' : [ 100, 90, 90]}\n",
    "\n",
    "dfA = pd.DataFrame(data, index=['아이유', '홍길동', '김단국'])\n",
    "dfB = pd.DataFrame(dfA)\n",
    "\n",
    "# '홍길동' 행 삭제\n",
    "dfB.drop('홍길동', inplace=True)\n",
    "dfC = pd.DataFrame(dfB)\n",
    "\n",
    "# '수영' 열 삭제\n",
    "dfC.drop('수영', axis=1, inplace=True)\n",
    "\n",
    "print(dfA)\n",
    "print()\n",
    "print(dfB)\n",
    "print()\n",
    "print(dfC)"
   ]
  },
  {
   "cell_type": "markdown",
   "metadata": {},
   "source": [
    "# 문제 8"
   ]
  },
  {
   "cell_type": "code",
   "execution_count": 67,
   "metadata": {},
   "outputs": [
    {
     "name": "stdout",
     "output_type": "stream",
     "text": [
      "<class 'pandas.core.series.Series'>\n",
      "\n",
      "Kim     30\n",
      "Lee     40\n",
      "Park    55\n",
      "dtype: int64\n",
      "'Lee'의 값 : 40\n"
     ]
    }
   ],
   "source": [
    "import pandas as pd\n",
    "\n",
    "data = {'Kim' : 30, 'Lee' : 40, 'Park' : 55}\n",
    "\n",
    "sr = pd.Series(data)\n",
    "\n",
    "print(type(sr))\n",
    "print()\n",
    "print(sr)\n",
    "print(\"'Lee'의 값 :\", sr['Lee'])"
   ]
  },
  {
   "cell_type": "markdown",
   "metadata": {},
   "source": [
    "# 문제 9 (못 풀었음ㅜㅜ)"
   ]
  },
  {
   "cell_type": "code",
   "execution_count": 91,
   "metadata": {},
   "outputs": [
    {
     "ename": "SyntaxError",
     "evalue": "invalid syntax (<ipython-input-91-d3a13dd59656>, line 6)",
     "output_type": "error",
     "traceback": [
      "\u001b[1;36m  File \u001b[1;32m\"<ipython-input-91-d3a13dd59656>\"\u001b[1;36m, line \u001b[1;32m6\u001b[0m\n\u001b[1;33m    arrayB = arrayA.[50 62 63 74 81]\u001b[0m\n\u001b[1;37m                    ^\u001b[0m\n\u001b[1;31mSyntaxError\u001b[0m\u001b[1;31m:\u001b[0m invalid syntax\n"
     ]
    }
   ],
   "source": [
    "import numpy as np\n",
    "\n",
    "arrayA = np.array([4,8,17,29,44,50,62,63,74,81])\n",
    "print('arrayA:\\n', arrayA)\n",
    "\n",
    "arrayB = [50 62 63 74 81]\n",
    "print('arrayB:\\n', arrayB)\n",
    "\n",
    "arrayC = [29 50 74]\n",
    "print('arrayC:\\n', arrayC)\n",
    "\n",
    "arrayD = [50 62 63 74 81]\n",
    "\n",
    "# arrayA의 원소중에 50 이상인 값만 필터링\n",
    "print('arrayD:\\n', arrayD)"
   ]
  },
  {
   "cell_type": "markdown",
   "metadata": {},
   "source": [
    "# 문제 10"
   ]
  },
  {
   "cell_type": "code",
   "execution_count": 92,
   "metadata": {},
   "outputs": [
    {
     "name": "stdout",
     "output_type": "stream",
     "text": [
      "100과 200중 큰 수는 : 200\n",
      "100과 200중 작은 수는 : 100\n"
     ]
    }
   ],
   "source": [
    "def max2(m, n):\n",
    "     if m > n :\n",
    "        return m\n",
    "    \n",
    "     else :\n",
    "        return n\n",
    "\n",
    "def min2(m, n):\n",
    "     if m < n :   \n",
    "        return m\n",
    "\n",
    "     else :\n",
    "        return n\n",
    "\n",
    "           \n",
    "\n",
    "print('100과 200중 큰 수는 :', max2(100, 200))\n",
    "print('100과 200중 작은 수는 :', min2(100, 200))"
   ]
  },
  {
   "cell_type": "markdown",
   "metadata": {},
   "source": [
    "# 문제 11"
   ]
  },
  {
   "cell_type": "code",
   "execution_count": 94,
   "metadata": {},
   "outputs": [
    {
     "name": "stdout",
     "output_type": "stream",
     "text": [
      "5\n"
     ]
    }
   ],
   "source": [
    "def get_sum(start, end):\n",
    "    sum = 0\n",
    "    for i in range(start+1, end):\n",
    "          sum += i\n",
    "    return sum\n",
    "\n",
    "a = get_sum(1, 4)\n",
    "print(a)"
   ]
  },
  {
   "cell_type": "code",
   "execution_count": 1,
   "metadata": {},
   "outputs": [
    {
     "data": {
      "text/html": [
       "<div>\n",
       "<style scoped>\n",
       "    .dataframe tbody tr th:only-of-type {\n",
       "        vertical-align: middle;\n",
       "    }\n",
       "\n",
       "    .dataframe tbody tr th {\n",
       "        vertical-align: top;\n",
       "    }\n",
       "\n",
       "    .dataframe thead th {\n",
       "        text-align: right;\n",
       "    }\n",
       "</style>\n",
       "<table border=\"1\" class=\"dataframe\">\n",
       "  <thead>\n",
       "    <tr style=\"text-align: right;\">\n",
       "      <th></th>\n",
       "      <th>Unnamed: 0</th>\n",
       "      <th>a</th>\n",
       "      <th>b</th>\n",
       "      <th>c</th>\n",
       "      <th>d</th>\n",
       "      <th>e</th>\n",
       "      <th>f</th>\n",
       "      <th>g</th>\n",
       "      <th>h</th>\n",
       "      <th>i</th>\n",
       "      <th>...</th>\n",
       "      <th>q</th>\n",
       "      <th>r</th>\n",
       "      <th>s</th>\n",
       "      <th>t</th>\n",
       "      <th>u</th>\n",
       "      <th>v</th>\n",
       "      <th>w</th>\n",
       "      <th>x</th>\n",
       "      <th>y</th>\n",
       "      <th>z</th>\n",
       "    </tr>\n",
       "  </thead>\n",
       "  <tbody>\n",
       "    <tr>\n",
       "      <th>0</th>\n",
       "      <td>1.txt</td>\n",
       "      <td>157</td>\n",
       "      <td>32</td>\n",
       "      <td>70</td>\n",
       "      <td>68</td>\n",
       "      <td>244</td>\n",
       "      <td>36</td>\n",
       "      <td>30</td>\n",
       "      <td>92</td>\n",
       "      <td>147</td>\n",
       "      <td>...</td>\n",
       "      <td>0</td>\n",
       "      <td>121</td>\n",
       "      <td>143</td>\n",
       "      <td>155</td>\n",
       "      <td>44</td>\n",
       "      <td>15</td>\n",
       "      <td>31</td>\n",
       "      <td>6</td>\n",
       "      <td>21</td>\n",
       "      <td>4</td>\n",
       "    </tr>\n",
       "    <tr>\n",
       "      <th>1</th>\n",
       "      <td>2.txt</td>\n",
       "      <td>203</td>\n",
       "      <td>23</td>\n",
       "      <td>59</td>\n",
       "      <td>88</td>\n",
       "      <td>309</td>\n",
       "      <td>62</td>\n",
       "      <td>56</td>\n",
       "      <td>97</td>\n",
       "      <td>159</td>\n",
       "      <td>...</td>\n",
       "      <td>7</td>\n",
       "      <td>154</td>\n",
       "      <td>146</td>\n",
       "      <td>207</td>\n",
       "      <td>51</td>\n",
       "      <td>36</td>\n",
       "      <td>32</td>\n",
       "      <td>10</td>\n",
       "      <td>36</td>\n",
       "      <td>2</td>\n",
       "    </tr>\n",
       "    <tr>\n",
       "      <th>2</th>\n",
       "      <td>3.txt</td>\n",
       "      <td>137</td>\n",
       "      <td>25</td>\n",
       "      <td>54</td>\n",
       "      <td>60</td>\n",
       "      <td>175</td>\n",
       "      <td>35</td>\n",
       "      <td>29</td>\n",
       "      <td>82</td>\n",
       "      <td>149</td>\n",
       "      <td>...</td>\n",
       "      <td>1</td>\n",
       "      <td>79</td>\n",
       "      <td>123</td>\n",
       "      <td>136</td>\n",
       "      <td>36</td>\n",
       "      <td>29</td>\n",
       "      <td>24</td>\n",
       "      <td>4</td>\n",
       "      <td>25</td>\n",
       "      <td>1</td>\n",
       "    </tr>\n",
       "  </tbody>\n",
       "</table>\n",
       "<p>3 rows × 27 columns</p>\n",
       "</div>"
      ],
      "text/plain": [
       "  Unnamed: 0    a   b   c   d    e   f   g   h    i  ...  q    r    s    t  \\\n",
       "0      1.txt  157  32  70  68  244  36  30  92  147  ...  0  121  143  155   \n",
       "1      2.txt  203  23  59  88  309  62  56  97  159  ...  7  154  146  207   \n",
       "2      3.txt  137  25  54  60  175  35  29  82  149  ...  1   79  123  136   \n",
       "\n",
       "    u   v   w   x   y  z  \n",
       "0  44  15  31   6  21  4  \n",
       "1  51  36  32  10  36  2  \n",
       "2  36  29  24   4  25  1  \n",
       "\n",
       "[3 rows x 27 columns]"
      ]
     },
     "execution_count": 1,
     "metadata": {},
     "output_type": "execute_result"
    }
   ],
   "source": [
    "import pandas as pd\n",
    "\n",
    "# read_excel()함수로 데이터프레임 변환\n",
    "df = pd.read_excel('./test.xlsx')        # header=0 (default 옵션)\n",
    "df"
   ]
  }
 ],
 "metadata": {
  "kernelspec": {
   "display_name": "Python 3",
   "language": "python",
   "name": "python3"
  },
  "language_info": {
   "codemirror_mode": {
    "name": "ipython",
    "version": 3
   },
   "file_extension": ".py",
   "mimetype": "text/x-python",
   "name": "python",
   "nbconvert_exporter": "python",
   "pygments_lexer": "ipython3",
   "version": "3.8.3"
  }
 },
 "nbformat": 4,
 "nbformat_minor": 4
}
